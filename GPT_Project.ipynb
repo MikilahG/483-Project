{
  "nbformat": 4,
  "nbformat_minor": 0,
  "metadata": {
    "colab": {
      "provenance": [],
      "collapsed_sections": [
        "u-WjVKQEd5v_"
      ]
    },
    "kernelspec": {
      "name": "python3",
      "display_name": "Python 3"
    },
    "language_info": {
      "name": "python"
    }
  },
  "cells": [
    {
      "cell_type": "markdown",
      "source": [
        "#CS 483 Project\n",
        "###Group GPT"
      ],
      "metadata": {
        "id": "4OJ8o4ooJv50"
      }
    },
    {
      "cell_type": "markdown",
      "source": [
        "#Sentiment Analysis"
      ],
      "metadata": {
        "id": "easv8-Y9XUUH"
      }
    },
    {
      "cell_type": "code",
      "source": [
        "import praw\n",
        "from textblob import TextBlob\n",
        "import pandas as pd\n",
        "import seaborn as sns\n",
        "\n",
        "query = 'bias'\n",
        "subreddit_name = 'chatgpt'\n",
        "limit = 100\n",
        "\n",
        "client_id = 'EkgggRiSIn1OUAMxZeCTfA'\n",
        "client_secret = '0RphWUYoRz1ByW6OL-nshYo4mwpnDg'\n",
        "username = 'Kiiii19'\n",
        "password = 'CS483project'\n",
        "\n",
        "reddit = praw.Reddit(\n",
        "    client_id=client_id,\n",
        "    client_secret=client_secret,\n",
        "    username=username,\n",
        "    password=password,\n",
        "    user_agent='my_bot/0.0.1'\n",
        ")\n",
        "\n",
        "# Search for posts containing the query in a specific subreddit\n",
        "subreddit = reddit.subreddit(subreddit_name)\n",
        "posts = subreddit.search(query, limit=limit)\n",
        "sentiment_scores = []\n",
        "for post in posts:\n",
        "    title = post.title\n",
        "    text = post.selftext\n",
        "    if text == '':\n",
        "        text = title\n",
        "    # Use TextBlob to compute the sentiment scores\n",
        "    blob = TextBlob(text)\n",
        "    sentiment_scores.append((title, text, blob.sentiment.polarity, blob.sentiment.subjectivity))\n",
        "\n",
        "df = pd.DataFrame(sentiment_scores, columns=['Title', 'Text', 'Polarity', 'Subjectivity'])\n",
        "print(df.head())\n",
        "\n",
        "sns.scatterplot(data=df, x='Polarity', y='Subjectivity')\n",
        "plt.title(f'Sentiment Scores for Subreddit \"{subreddit_name}\" and Query \"{query}\"')\n",
        "plt.show()"
      ],
      "metadata": {
        "colab": {
          "base_uri": "https://localhost:8080/",
          "height": 776
        },
        "id": "yNubfV5uQLdQ",
        "outputId": "7655e6a9-d723-4de3-88a9-e814086fd5d8"
      },
      "execution_count": null,
      "outputs": [
        {
          "output_type": "stream",
          "name": "stderr",
          "text": [
            "WARNING:praw:It appears that you are using PRAW in an asynchronous environment.\n",
            "It is strongly recommended to use Async PRAW: https://asyncpraw.readthedocs.io.\n",
            "See https://praw.readthedocs.io/en/latest/getting_started/multiple_instances.html#discord-bots-and-asynchronous-environments for more info.\n",
            "\n"
          ]
        },
        {
          "output_type": "stream",
          "name": "stdout",
          "text": [
            "                                               Title  \\\n",
            "0  GPT-3.5 vs. GPT-4 – A comparison in logical ac...   \n",
            "1                      Clear example of ChatGPT bias   \n",
            "2                    Questionable sexuality bias...?   \n",
            "3  RightWingGPT – An AI Manifesting the Opposite ...   \n",
            "4  Is Chat GBT have a bias toward physicalism and...   \n",
            "\n",
            "                                                Text  Polarity  Subjectivity  \n",
            "0  GPT-3.5 vs. GPT-4 – A comparison in logical ac...  0.250000      0.250000  \n",
            "1                      Clear example of ChatGPT bias  0.100000      0.383333  \n",
            "2  *(Both prompts were given in their own fresh t...  0.264152      0.588905  \n",
            "3  RightWingGPT – An AI Manifesting the Opposite ...  0.000000      0.050000  \n",
            "4  When asking about spiritual topics, Chat GBT k...  0.062500      0.533333  \n"
          ]
        },
        {
          "output_type": "display_data",
          "data": {
            "text/plain": [
              "<Figure size 640x480 with 1 Axes>"
            ],
            "image/png": "[encoded data removed]"
          },
          "metadata": {}
        }
      ]
    },
    {
      "cell_type": "markdown",
      "source": [
        "#Natural Language Processing and Clustered Text w/ K-means Algorithm (WordCloud)"
      ],
      "metadata": {
        "id": "LZ5FxxTcQleu"
      }
    },
    {
      "cell_type": "code",
      "source": [
        "!pip install -q praw\n",
        "!pip install -q nltk\n",
        "!pip install -q scikit-learn\n",
        "import praw\n",
        "import nltk  #pip install nltk\n",
        "nltk.download('punkt')\n",
        "nltk.download('stopwords')\n",
        "from nltk.corpus import stopwords\n",
        "from sklearn.feature_extraction.text import TfidfVectorizer  #pip install scikit-learn\n",
        "from sklearn.cluster import KMeans\n",
        "import re"
      ],
      "metadata": {
        "id": "vuAn2rOChOnV",
        "colab": {
          "base_uri": "https://localhost:8080/"
        },
        "outputId": "2792fc02-3d39-4a97-b416-e29703ab5dac"
      },
      "execution_count": null,
      "outputs": [
        {
          "output_type": "stream",
          "name": "stdout",
          "text": [
            "\u001b[?25l     \u001b[90m━━━━━━━━━━━━━━━━━━━━━━━━━━━━━━━━━━━━━━━━\u001b[0m \u001b[32m0.0/189.4 kB\u001b[0m \u001b[31m?\u001b[0m eta \u001b[36m-:--:--\u001b[0m\r\u001b[2K     \u001b[91m━━━━━━━━━━━━━━━━━━━━━━━━━━━━━━━━━━━━\u001b[0m\u001b[91m╸\u001b[0m\u001b[90m━\u001b[0m \u001b[32m184.3/189.4 kB\u001b[0m \u001b[31m10.4 MB/s\u001b[0m eta \u001b[36m0:00:01\u001b[0m\r\u001b[2K     \u001b[90m━━━━━━━━━━━━━━━━━━━━━━━━━━━━━━━━━━━━━━━\u001b[0m \u001b[32m189.4/189.4 kB\u001b[0m \u001b[31m3.8 MB/s\u001b[0m eta \u001b[36m0:00:00\u001b[0m\n",
            "\u001b[?25h"
          ]
        },
        {
          "output_type": "stream",
          "name": "stderr",
          "text": [
            "[nltk_data] Downloading package punkt to /root/nltk_data...\n",
            "[nltk_data]   Unzipping tokenizers/punkt.zip.\n",
            "[nltk_data] Downloading package stopwords to /root/nltk_data...\n",
            "[nltk_data]   Unzipping corpora/stopwords.zip.\n"
          ]
        }
      ]
    },
    {
      "cell_type": "code",
      "source": [
        "!pip install -q praw\n",
        "!pip install -q nltk\n",
        "import praw\n",
        "import nltk\n",
        "nltk.download('vader_lexicon')\n",
        "import re\n",
        "# Authenticate with Reddit's API using your client ID and secret\n",
        "client_id = 'DvX_C3gFsKweI0O6_u9vag'\n",
        "client_secret = 'YfLv9dz1RRs7oA7RROkJ-BtfkhiQSA'\n",
        "username = 'checkary'\n",
        "password = 'CS483Project'\n",
        "\n",
        "reddit = praw.Reddit(\n",
        "    client_id=client_id,\n",
        "    client_secret=client_secret,\n",
        "    username=username,\n",
        "    password=password,\n",
        "    user_agent='my_bot/0.0.1'\n",
        ")\n",
        "\n",
        "# Define the query parameters for your search\n",
        "query = 'racist OR racism OR racialism OR racial OR black OR white OR asian OR indian OR mexican OR african OR slurs or slur OR race'\n",
        "subreddit_name = 'chatgpt'\n",
        "query2 = '(racist OR racism OR racialism OR racial OR black OR white OR asian OR indian OR mexican OR african OR slurs OR slur OR race) AND chatgpt'\n",
        "subreddit_name2 = 'openai'\n",
        "query3 = '(racist OR racism OR racialism OR racial OR black OR white OR asian OR indian OR mexican OR african OR slurs OR slur OR race) AND chatgpt'\n",
        "subreddit_name3 = 'artificial'\n",
        "limit = 300\n",
        "\n",
        "# Search for posts containing the query in a specific subreddit\n",
        "subreddit = reddit.subreddit(subreddit_name)\n",
        "subreddit2 = reddit.subreddit(subreddit_name2)\n",
        "subreddit3 = reddit.subreddit(subreddit_name3)\n",
        "posts = subreddit.search(query, limit=limit)\n",
        "posts2 = subreddit2.search(query2, limit=limit)\n",
        "posts3 = subreddit3.search(query3, limit=limit)\n",
        "\n",
        "f = open(\"redditData_racistInChatGPT2.txt\", \"w\", encoding=\"utf-8\")\n",
        "for post in posts:\n",
        "    if \"racist\" in post.title or \"racist\" in post.selftext or \"race\" in post.title or \"race\" in post.selftext or \"racism\" in post.title or \"racism\" in post.selftext or \"racialism\" in post.title or \"racialism\" in post.selftext or \"racial\" in post.title:\n",
        "        f.write(f\"{post.title} \")\n",
        "        f.write(f\"{post.selftext}\".replace(\"\\n\", \" \").replace(\"\\t\", \" \"))\n",
        "        try:\n",
        "            if \"racial\" in post.comment or \"race\" in post.comment or \"racism\" in post.comment or \"racialism\" in post.comment or \"racial\" in post.comment:\n",
        "                f.write(f\"{post.comment}\".replace(\"\\n\", \" \").replace(\"\\t\", \" \"))\n",
        "                f.write(\"\\n\")\n",
        "                continue\n",
        "        except:\n",
        "            f.write(\"\\n\")\n",
        "            continue\n",
        "for post in posts2:\n",
        "    if \"racist\" in post.title or \"racist\" in post.selftext or \"race\" in post.title or \"race\" in post.selftext or \"racism\" in post.title or \"racism\" in post.selftext or \"racialism\" in post.title or \"racialism\" in post.selftext or \"racial\" in post.title:\n",
        "        f.write(f\"{post.title} \")\n",
        "        f.write(f\"{post.selftext}\".replace(\"\\n\", \" \").replace(\"\\t\", \" \"))\n",
        "        try:\n",
        "            if \"racial\" in post.comment or \"race\" in post.comment or \"racism\" in post.comment or \"racialism\" in post.comment or \"racial\" in post.comment:\n",
        "                f.write(f\"{post.comment}\".replace(\"\\n\", \" \").replace(\"\\t\", \" \"))\n",
        "                f.write(\"\\n\")\n",
        "                continue\n",
        "        except:\n",
        "            f.write(\"\\n\")\n",
        "            continue\n",
        "for post in posts3:\n",
        "    if \"racist\" in post.title or \"racist\" in post.selftext or \"race\" in post.title or \"race\" in post.selftext or \"racism\" in post.title or \"racism\" in post.selftext or \"racialism\" in post.title or \"racialism\" in post.selftext or \"racial\" in post.title:\n",
        "        f.write(f\"{post.title} \")\n",
        "        f.write(f\"{post.selftext}\".replace(\"\\n\", \" \").replace(\"\\t\", \" \"))\n",
        "        try:\n",
        "            if \"racial\" in post.comment or \"race\" in post.comment or \"racism\" in post.comment or \"racialism\" in post.comment or \"racial\" in post.comment:\n",
        "                f.write(f\"{post.comment}\".replace(\"\\n\", \" \").replace(\"\\t\", \" \"))\n",
        "                f.write(\"\\n\")\n",
        "                continue\n",
        "        except:\n",
        "            f.write(\"\\n\")\n",
        "            continue\n",
        "f.close()"
      ],
      "metadata": {
        "id": "MRVo3xqORRkv"
      },
      "execution_count": null,
      "outputs": []
    },
    {
      "cell_type": "code",
      "source": [
        "# Open the input file and read the contents\n",
        "with open(\"redditData_racistInChatGPT2.txt\", \"r\", encoding=\"utf-8\") as input_file:\n",
        "    input_text = input_file.read()\n",
        "\n",
        "# Remove all non-words (i.e., any character that is not a letter or space)\n",
        "text = re.sub(r\"[^a-zA-Z\\s]+\", \"\", text)\n",
        "\n",
        "# Open the output file and write the cleaned text to it\n",
        "with open(\"cleaned_reddit_data2.txt\", \"w\", encoding=\"utf-8\") as f:\n",
        "    f.write(text)\n",
        "\n",
        "# Open the file and read the lines\n",
        "with open('cleaned_reddit_data2.txt', 'r', encoding=\"utf-8\") as f:\n",
        "    lines = f.readlines()"
      ],
      "metadata": {
        "id": "nRfsVCRVIb1V"
      },
      "execution_count": null,
      "outputs": []
    },
    {
      "cell_type": "code",
      "source": [
        "# Load the data\n",
        "with open('cleaned_reddit_data2.txt', 'r', encoding=\"utf-8\") as f:\n",
        "    data = f.readlines()\n",
        "\n",
        "# Tokenize the data\n",
        "tokenized_data = []\n",
        "for post in data:\n",
        "    tokens = nltk.word_tokenize(post)\n",
        "    filtered_tokens = []\n",
        "    for token in tokens:\n",
        "        if token.isalpha():\n",
        "            filtered_tokens.append(token.lower())\n",
        "        else:\n",
        "            filtered_tokens.append(token)\n",
        "    tokenized_data.append(filtered_tokens)\n",
        "\n",
        "# Remove stop words\n",
        "stop_words = set(stopwords.words('english'))\n",
        "filtered_data = []\n",
        "for post in tokenized_data:\n",
        "    filtered_post = [word for word in post if word not in stop_words]\n",
        "    filtered_data.append(filtered_post)\n",
        "\n",
        "# Convert to TF-IDF vectors\n",
        "vectorizer = TfidfVectorizer()\n",
        "X = vectorizer.fit_transform([' '.join(post) for post in filtered_data])\n",
        "\n",
        "# Apply clustering\n",
        "kmeans = KMeans(n_clusters=5, random_state=0)\n",
        "kmeans.fit(X)\n",
        "\n",
        "# Print the cluster labels and posts\n",
        "for i in range(5):\n",
        "    cluster_posts = []\n",
        "    for j, label in enumerate(kmeans.labels_):\n",
        "        if label == i:\n",
        "            cluster_posts.append(data[j])\n",
        "    print(f\"Cluster {i}:\")\n",
        "    print(\"------------------------\")\n",
        "    print(''.join(cluster_posts))\n",
        "    print(\"\\n\")"
      ],
      "metadata": {
        "id": "hZR8Z732QbJ3"
      },
      "execution_count": null,
      "outputs": []
    },
    {
      "cell_type": "code",
      "source": [
        "import matplotlib.pyplot as plt\n",
        "from wordcloud import WordCloud\n",
        "\n",
        "# Generate a word cloud for each cluster\n",
        "for i in range(3):\n",
        "    cluster_posts = []\n",
        "    for j, label in enumerate(kmeans.labels_):\n",
        "        if label == i:\n",
        "            cluster_posts.append(data[j])\n",
        "    cluster_text = ' '.join(cluster_posts)\n",
        "    wordcloud = WordCloud(width=800, height=400, background_color='white').generate(cluster_text)\n",
        "    plt.imshow(wordcloud, interpolation='bilinear')\n",
        "    plt.axis('off')\n",
        "    plt.title(f'Cluster {i}')\n",
        "    plt.show()"
      ],
      "metadata": {
        "id": "ut9JLS3_1nWu"
      },
      "execution_count": null,
      "outputs": []
    },
    {
      "cell_type": "markdown",
      "source": [
        "#Natural Language Processing and Sentiment Analysis (Heatmap)"
      ],
      "metadata": {
        "id": "YQohs7-E7c4F"
      }
    },
    {
      "cell_type": "code",
      "source": [
        "!pip install -q praw\n",
        "!pip install -q nltk\n",
        "import praw\n",
        "import nltk\n",
        "nltk.download('punkt')\n",
        "nltk.download('stopwords')\n",
        "nltk.download('vader_lexicon')\n",
        "from nltk.corpus import stopwords\n",
        "import re\n",
        "# Authenticate with Reddit's API using your client ID and secret\n",
        "client_id = 'DvX_C3gFsKweI0O6_u9vag'\n",
        "client_secret = 'YfLv9dz1RRs7oA7RROkJ-BtfkhiQSA'\n",
        "username = 'checkary'\n",
        "password = 'CS483Project'\n",
        "\n",
        "reddit = praw.Reddit(\n",
        "    client_id=client_id,\n",
        "    client_secret=client_secret,\n",
        "    username=username,\n",
        "    password=password,\n",
        "    user_agent='my_bot/0.0.1'\n",
        ")\n",
        "\n",
        "# Define the query parameters for your search\n",
        "query = 'racist OR racism OR racialism OR racial OR black OR white OR asian OR indian OR mexican OR african OR slurs or slur OR race'\n",
        "subreddit_name = 'chatgpt'\n",
        "query2 = '(racist OR racism OR racialism OR racial OR black OR white OR asian OR indian OR mexican OR african OR slurs OR slur OR race) AND chatgpt'\n",
        "subreddit_name2 = 'openai'\n",
        "query3 = '(racist OR racism OR racialism OR racial OR black OR white OR asian OR indian OR mexican OR african OR slurs OR slur OR race) AND chatgpt'\n",
        "subreddit_name3 = 'artificial'\n",
        "limit = 300\n",
        "\n",
        "# Search for posts containing the query in a specific subreddit\n",
        "subreddit = reddit.subreddit(subreddit_name)\n",
        "subreddit2 = reddit.subreddit(subreddit_name2)\n",
        "subreddit3 = reddit.subreddit(subreddit_name3)\n",
        "posts = subreddit.search(query, limit=limit)\n",
        "posts2 = subreddit2.search(query2, limit=limit)\n",
        "posts3 = subreddit3.search(query3, limit=limit)\n",
        "\n",
        "f = open(\"redditData_racistInChatGPT2.txt\", \"w\", encoding=\"utf-8\")\n",
        "for post in posts:\n",
        "    if \"racist\" in post.title or \"racist\" in post.selftext or \"race\" in post.title or \"race\" in post.selftext or \"racism\" in post.title or \"racism\" in post.selftext or \"racialism\" in post.title or \"racialism\" in post.selftext or \"racial\" in post.title:\n",
        "        f.write(f\"{post.title} \")\n",
        "        f.write(f\"{post.selftext}\".replace(\"\\n\", \" \").replace(\"\\t\", \" \"))\n",
        "        try:\n",
        "            if \"racial\" in post.comment or \"race\" in post.comment or \"racism\" in post.comment or \"racialism\" in post.comment or \"racial\" in post.comment:\n",
        "                f.write(f\"{post.comment}\".replace(\"\\n\", \" \").replace(\"\\t\", \" \"))\n",
        "                f.write(\"\\n\")\n",
        "                continue\n",
        "        except:\n",
        "            f.write(\"\\n\")\n",
        "            continue\n",
        "for post in posts2:\n",
        "    if \"racist\" in post.title or \"racist\" in post.selftext or \"race\" in post.title or \"race\" in post.selftext or \"racism\" in post.title or \"racism\" in post.selftext or \"racialism\" in post.title or \"racialism\" in post.selftext or \"racial\" in post.title:\n",
        "        f.write(f\"{post.title} \")\n",
        "        f.write(f\"{post.selftext}\".replace(\"\\n\", \" \").replace(\"\\t\", \" \"))\n",
        "        try:\n",
        "            if \"racial\" in post.comment or \"race\" in post.comment or \"racism\" in post.comment or \"racialism\" in post.comment or \"racial\" in post.comment:\n",
        "                f.write(f\"{post.comment}\".replace(\"\\n\", \" \").replace(\"\\t\", \" \"))\n",
        "                f.write(\"\\n\")\n",
        "                continue\n",
        "        except:\n",
        "            f.write(\"\\n\")\n",
        "            continue\n",
        "for post in posts3:\n",
        "    if \"racist\" in post.title or \"racist\" in post.selftext or \"race\" in post.title or \"race\" in post.selftext or \"racism\" in post.title or \"racism\" in post.selftext or \"racialism\" in post.title or \"racialism\" in post.selftext or \"racial\" in post.title:\n",
        "        f.write(f\"{post.title} \")\n",
        "        f.write(f\"{post.selftext}\".replace(\"\\n\", \" \").replace(\"\\t\", \" \"))\n",
        "        try:\n",
        "            if \"racial\" in post.comment or \"race\" in post.comment or \"racism\" in post.comment or \"racialism\" in post.comment or \"racial\" in post.comment:\n",
        "                f.write(f\"{post.comment}\".replace(\"\\n\", \" \").replace(\"\\t\", \" \"))\n",
        "                f.write(\"\\n\")\n",
        "                continue\n",
        "        except:\n",
        "            f.write(\"\\n\")\n",
        "            continue\n",
        "f.close()"
      ],
      "metadata": {
        "id": "tV-PJsuU7sPw"
      },
      "execution_count": null,
      "outputs": []
    },
    {
      "cell_type": "code",
      "source": [
        "# Open the input file and read the contents\n",
        "with open(\"redditData_racistInChatGPT2.txt\", \"r\", encoding=\"utf-8\") as input_file:\n",
        "    input_text = input_file.read()\n",
        "\n",
        "# Remove all non-words (i.e., any character that is not a letter or space)\n",
        "text = re.sub(r\"[^a-zA-Z\\s]+\", \"\", input_text)\n",
        "\n",
        "# Open the output file and write the cleaned text to it\n",
        "with open(\"cleaned_reddit_data2.txt\", \"w\", encoding=\"utf-8\") as f:\n",
        "    f.write(text)\n",
        "\n",
        "# Open the file and read the lines\n",
        "with open('cleaned_reddit_data2.txt', 'r', encoding=\"utf-8\") as f:\n",
        "    data = f.readlines()\n",
        "\n",
        "# Remove stop words\n",
        "stop_words = set(stopwords.words('english'))\n",
        "with open('cleanedAndFiltered_reddit_data2.txt', 'w', encoding=\"utf-8\") as f:\n",
        "  for post in data:\n",
        "      filtered_post = [word for word in post if word not in stop_words]\n",
        "      f.write(f\"{post}\")"
      ],
      "metadata": {
        "id": "Eyseaqb3AUM7"
      },
      "execution_count": null,
      "outputs": []
    },
    {
      "cell_type": "code",
      "source": [
        "!pip install nltk\n",
        "from nltk.sentiment import SentimentIntensityAnalyzer\n",
        "\n",
        "# Open the file and read the lines\n",
        "with open('cleanedAndFiltered_reddit_data2.txt', 'r', encoding=\"utf-8\") as f:\n",
        "    data = f.readlines()\n",
        "\n",
        "# Load the sentiment analyzer\n",
        "sia = SentimentIntensityAnalyzer()\n",
        "\n",
        "# Initialize an empty list to store the sentiment scores\n",
        "sentiment_scores = []\n",
        "\n",
        "# Iterate over the lines and perform sentiment analysis\n",
        "for line in data:\n",
        "    \n",
        "    # Perform sentiment analysis on the line\n",
        "    sentiment = sia.polarity_scores(line)\n",
        "    \n",
        "    # Append the sentiment analysis results to the list\n",
        "    sentiment_scores.append(sentiment)\n"
      ],
      "metadata": {
        "colab": {
          "base_uri": "https://localhost:8080/"
        },
        "id": "gDOcADF-7tuX",
        "outputId": "e506319c-8006-485d-9eed-def3ad3fcd89"
      },
      "execution_count": null,
      "outputs": [
        {
          "output_type": "stream",
          "name": "stdout",
          "text": [
            "Looking in indexes: https://pypi.org/simple, https://us-python.pkg.dev/colab-wheels/public/simple/\n",
            "Requirement already satisfied: nltk in /usr/local/lib/python3.9/dist-packages (3.8.1)\n",
            "Requirement already satisfied: tqdm in /usr/local/lib/python3.9/dist-packages (from nltk) (4.65.0)\n",
            "Requirement already satisfied: joblib in /usr/local/lib/python3.9/dist-packages (from nltk) (1.2.0)\n",
            "Requirement already satisfied: regex>=2021.8.3 in /usr/local/lib/python3.9/dist-packages (from nltk) (2022.10.31)\n",
            "Requirement already satisfied: click in /usr/local/lib/python3.9/dist-packages (from nltk) (8.1.3)\n"
          ]
        }
      ]
    },
    {
      "cell_type": "code",
      "source": [
        "import pandas as pd\n",
        "import seaborn as sns\n",
        "import matplotlib.pyplot as plt\n",
        "# Convert the list of sentiment scores to a Pandas DataFrame\n",
        "df = pd.DataFrame(sentiment_scores)\n",
        "\n",
        "# Create a heatmap of the sentiment scores\n",
        "plt.title('Sentiment Readings for Subreddits \"OpenAI/ChatGPT\" and Query \"Racism\"\\n')\n",
        "sns.heatmap(df, cmap='coolwarm', annot=False, fmt='.3f')"
      ],
      "metadata": {
        "colab": {
          "base_uri": "https://localhost:8080/",
          "height": 498
        },
        "id": "7rcblD9a_NuL",
        "outputId": "335e5ee2-e146-4a73-9dfd-9f88ba59d625"
      },
      "execution_count": null,
      "outputs": [
        {
          "output_type": "execute_result",
          "data": {
            "text/plain": [
              "<Axes: title={'center': 'Sentiment Readings for Subreddits \"OpenAI/ChatGPT\" and Query \"Racism\"\\n'}>"
            ]
          },
          "metadata": {},
          "execution_count": 20
        },
        {
          "output_type": "display_data",
          "data": {
            "text/plain": [
              "<Figure size 640x480 with 2 Axes>"
            ],
            "image/png": "[encoded data removed]"
          },
          "metadata": {}
        }
      ]
    },
    {
      "cell_type": "markdown",
      "source": [
        "#Keywords (Prejudice, Racial Bias, Bias) and ChatGPT"
      ],
      "metadata": {
        "id": "u-WjVKQEd5v_"
      }
    },
    {
      "cell_type": "code",
      "source": [
        "import praw\n",
        "import pandas as pd\n",
        "import matplotlib.pyplot as plt\n",
        "\n",
        "# Authenticate with Reddit's API using your client ID and secret\n",
        "client_id = 'EkgggRiSIn1OUAMxZeCTfA'\n",
        "client_secret = '0RphWUYoRz1ByW6OL-nshYo4mwpnDg'\n",
        "username = 'Kiiii19'\n",
        "password = 'CS483project'\n",
        "\n",
        "reddit = praw.Reddit(\n",
        "    client_id=client_id,\n",
        "    client_secret=client_secret,\n",
        "    username=username,\n",
        "    password=password,\n",
        "    user_agent='my_bot/0.0.1'\n",
        ")\n",
        "\n",
        "query = 'bias'\n",
        "subreddit_name = 'chatgpt'\n",
        "limit = 100\n",
        "subreddit = reddit.subreddit(subreddit_name)\n",
        "posts = subreddit.search(query, limit=limit)\n",
        "\n",
        "bias_count = 0\n",
        "chatgpt_count = 0\n",
        "both_count = 0\n",
        "subreddit = reddit.subreddit(subreddit_name)\n",
        "posts = subreddit.search(query, limit=limit)\n",
        "\n",
        "for post in posts:\n",
        "    if 'bias' in post.title.lower() or 'bias' in post.selftext.lower() and 'chatgpt' in post.title.lower() or 'chatgpt' in post.selftext.lower():\n",
        "        both_count +=1\n",
        "    if 'bias' in post.title.lower() or 'bias' in post.selftext.lower():\n",
        "        bias_count += 1\n",
        "    if 'chatgpt' in post.title.lower() or 'chatgpt' in post.selftext.lower():\n",
        "        chatgpt_count += 1\n",
        "\n",
        "counts = {'Word': ['bias', 'chatgpt', 'both'], 'Count': [bias_count, chatgpt_count, both_count]}\n",
        "df = pd.DataFrame(counts)\n",
        "print(df)\n",
        "\n",
        "plt.bar(counts['Word'], counts['Count'])\n",
        "plt.title('Occurrences of \"bias\" and \"chatgpt\"')\n",
        "plt.xlabel('Word')\n",
        "plt.ylabel('Count')\n",
        "plt.show()"
      ],
      "metadata": {
        "id": "-RLwW_Zrj8zb"
      },
      "execution_count": null,
      "outputs": []
    },
    {
      "cell_type": "code",
      "source": [
        "import praw\n",
        "import pandas as pd\n",
        "import matplotlib.pyplot as plt\n",
        "\n",
        "# Authenticate with Reddit's API using your client ID and secret\n",
        "client_id = 'EkgggRiSIn1OUAMxZeCTfA'\n",
        "client_secret = '0RphWUYoRz1ByW6OL-nshYo4mwpnDg'\n",
        "username = 'Kiiii19'\n",
        "password = 'CS483project'\n",
        "\n",
        "reddit = praw.Reddit(\n",
        "    client_id=client_id,\n",
        "    client_secret=client_secret,\n",
        "    username=username,\n",
        "    password=password,\n",
        "    user_agent='my_bot/0.0.1'\n",
        ")\n",
        "\n",
        "# Define the query parameters for your search\n",
        "query = 'prejudice'\n",
        "subreddit_name = 'chatgpt'\n",
        "limit = 100\n",
        "\n",
        "# Search for posts containing the query in a specific subreddit\n",
        "subreddit = reddit.subreddit(subreddit_name)\n",
        "posts = subreddit.search(query, limit=limit)\n",
        "\n",
        "bias_count = 0\n",
        "chatgpt_count = 0\n",
        "both_count = 0\n",
        "\n",
        "# Process each post and count occurrences of 'racial bias' and 'chatgpt'\n",
        "for post in posts:\n",
        "    if 'prejudice' in post.title.lower() or 'prejudice' in post.selftext.lower() and 'chatgpt' in post.title.lower() or 'chatgpt' in post.selftext.lower():\n",
        "        both_count +=1\n",
        "    if 'prejudice' in post.title.lower() or 'prejudice' in post.selftext.lower():\n",
        "        bias_count += 1\n",
        "    if 'chatgpt' in post.title.lower() or 'chatgpt' in post.selftext.lower():\n",
        "        chatgpt_count += 1\n",
        "\n",
        "counts = {'Word': ['prejudice', 'chatgpt', 'both'], 'Count': [bias_count, chatgpt_count, both_count]}\n",
        "df = pd.DataFrame(counts)\n",
        "print(df)\n",
        "\n",
        "plt.bar(counts['Word'], counts['Count'])\n",
        "plt.title('Occurrences of \"prejudice\" and \"chatgpt\"')\n",
        "plt.xlabel('Word')\n",
        "plt.ylabel('Count')\n",
        "plt.show()\n"
      ],
      "metadata": {
        "colab": {
          "base_uri": "https://localhost:8080/",
          "height": 611
        },
        "outputId": "988fbfe9-fd9f-4a6e-b5b9-0f7f289714c5",
        "id": "HcLsv-cDjJ4g"
      },
      "execution_count": null,
      "outputs": [
        {
          "output_type": "stream",
          "name": "stderr",
          "text": [
            "WARNING:praw:It appears that you are using PRAW in an asynchronous environment.\n",
            "It is strongly recommended to use Async PRAW: https://asyncpraw.readthedocs.io.\n",
            "See https://praw.readthedocs.io/en/latest/getting_started/multiple_instances.html#discord-bots-and-asynchronous-environments for more info.\n",
            "\n"
          ]
        },
        {
          "output_type": "stream",
          "name": "stdout",
          "text": [
            "        Word  Count\n",
            "0  prejudice     24\n",
            "1    chatgpt     30\n",
            "2       both     19\n"
          ]
        },
        {
          "output_type": "display_data",
          "data": {
            "text/plain": [
              "<Figure size 640x480 with 1 Axes>"
            ],
            "image/png": "[encoded data removed]"
          },
          "metadata": {}
        }
      ]
    },
    {
      "cell_type": "code",
      "source": [
        "import praw\n",
        "import pandas as pd\n",
        "import matplotlib.pyplot as plt\n",
        "\n",
        "# Authenticate with Reddit's API using your client ID and secret\n",
        "client_id = 'EkgggRiSIn1OUAMxZeCTfA'\n",
        "client_secret = '0RphWUYoRz1ByW6OL-nshYo4mwpnDg'\n",
        "username = 'Kiiii19'\n",
        "password = 'CS483project'\n",
        "\n",
        "reddit = praw.Reddit(\n",
        "    client_id=client_id,\n",
        "    client_secret=client_secret,\n",
        "    username=username,\n",
        "    password=password,\n",
        "    user_agent='my_bot/0.0.1'\n",
        ")\n",
        "\n",
        "# Define the query parameters for your search\n",
        "query = 'racial bias'\n",
        "subreddit_name = 'chatgpt'\n",
        "limit = 100\n",
        "\n",
        "# Search for posts containing the query in a specific subreddit\n",
        "subreddit = reddit.subreddit(subreddit_name)\n",
        "posts = subreddit.search(query, limit=limit)\n",
        "\n",
        "bias_count = 0\n",
        "chatgpt_count = 0\n",
        "both_count = 0\n",
        "\n",
        "# Process each post and count occurrences of 'racial bias' and 'chatgpt'\n",
        "for post in posts:\n",
        "    if 'racial bias' in post.title.lower() or 'racial bias' in post.selftext.lower() and 'chatgpt' in post.title.lower() or 'chatgpt' in post.selftext.lower():\n",
        "        both_count +=1\n",
        "    if 'racial bias' in post.title.lower() or 'racial bias' in post.selftext.lower():\n",
        "        bias_count += 1\n",
        "    if 'chatgpt' in post.title.lower() or 'chatgpt' in post.selftext.lower():\n",
        "        chatgpt_count += 1\n",
        "\n",
        "counts = {'Word': ['racial bias', 'chatgpt', 'both'], 'Count': [bias_count, chatgpt_count, both_count]}\n",
        "df = pd.DataFrame(counts)\n",
        "print(df)\n",
        "\n",
        "plt.bar(counts['Word'], counts['Count'])\n",
        "plt.title('Occurrences of \"racial bias\" and \"chatgpt\"')\n",
        "plt.xlabel('Word')\n",
        "plt.ylabel('Count')\n",
        "plt.show()\n"
      ],
      "metadata": {
        "colab": {
          "base_uri": "https://localhost:8080/",
          "height": 611
        },
        "outputId": "4102f979-2d0b-44ec-d245-7fc9ea479b24",
        "id": "rwdBP9CtkFkh"
      },
      "execution_count": null,
      "outputs": [
        {
          "output_type": "stream",
          "name": "stderr",
          "text": [
            "WARNING:praw:It appears that you are using PRAW in an asynchronous environment.\n",
            "It is strongly recommended to use Async PRAW: https://asyncpraw.readthedocs.io.\n",
            "See https://praw.readthedocs.io/en/latest/getting_started/multiple_instances.html#discord-bots-and-asynchronous-environments for more info.\n",
            "\n"
          ]
        },
        {
          "output_type": "stream",
          "name": "stdout",
          "text": [
            "          Word  Count\n",
            "0  racial bias      2\n",
            "1      chatgpt      8\n",
            "2         both      6\n"
          ]
        },
        {
          "output_type": "display_data",
          "data": {
            "text/plain": [
              "<Figure size 640x480 with 1 Axes>"
            ],
            "image/png": "[encoded data removed]"
          },
          "metadata": {}
        }
      ]
    }
  ]
}